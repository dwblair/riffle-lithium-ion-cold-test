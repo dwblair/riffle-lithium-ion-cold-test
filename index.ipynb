{
 "cells": [
  {
   "cell_type": "code",
   "execution_count": 67,
   "metadata": {
    "collapsed": false
   },
   "outputs": [],
   "source": [
    "%matplotlib inline \n",
    "# above line allows for showing plots in a cell easily\n",
    "import matplotlib # the main plotting library\n",
    "import numpy as np # allows for arrays\n",
    "import matplotlib.pyplot as plt # getting specific plotting functions\n",
    "import urllib # URL import functions\n",
    "import pandas as pd # nice data utilities"
   ]
  },
  {
   "cell_type": "code",
   "execution_count": 68,
   "metadata": {
    "collapsed": false
   },
   "outputs": [],
   "source": [
    "url='https://raw.githubusercontent.com/dwblair/riffle-lithium-ion-cold-test/master/2016_3_3_afternoon.csv' # the url for the CSV"
   ]
  },
  {
   "cell_type": "code",
   "execution_count": 69,
   "metadata": {
    "collapsed": false
   },
   "outputs": [],
   "source": [
    "response = urllib.request.urlopen(url) # treating the URL as a file"
   ]
  },
  {
   "cell_type": "code",
   "execution_count": 70,
   "metadata": {
    "collapsed": true
   },
   "outputs": [],
   "source": [
    "a=pd.read_csv(response,names=['date','temp','batt','a0']) # reading that file in as a CSV"
   ]
  },
  {
   "cell_type": "code",
   "execution_count": 71,
   "metadata": {
    "collapsed": false
   },
   "outputs": [],
   "source": [
    "from datetime import datetime\n",
    "\n",
    "t=[]\n",
    "tp=datetime.strptime(a.date[0],\"%Y-%m-%d %H:%M:%S\")\n",
    "tstart=tp.strftime(\"%s\")\n",
    "    \n",
    "for i in range (0,len(a.date)):\n",
    "    tp=datetime.strptime(a.date[i],\"%Y-%m-%d %H:%M:%S\")\n",
    "    ts=tp.strftime(\"%s\")\n",
    "    t.append((float(ts)-float(tstart))/3600) #hours"
   ]
  },
  {
   "cell_type": "code",
   "execution_count": 72,
   "metadata": {
    "collapsed": false
   },
   "outputs": [
    {
     "data": {
      "text/plain": [
       "<matplotlib.text.Text at 0x7f8f418a6358>"
      ]
     },
     "execution_count": 72,
     "metadata": {},
     "output_type": "execute_result"
    },
    {
     "data": {
      "image/png": "[encoded data removed]",
      "text/plain": [
       "<matplotlib.figure.Figure at 0x7f8f418f6a58>"
      ]
     },
     "metadata": {},
     "output_type": "display_data"
    }
   ],
   "source": [
    "plt.plot(t,a.temp); plt.xlabel('hours'); plt.ylabel('temp (C)');\n",
    "#plt.figtext(.1, -0.1, \"Fig 1\", size=16)"
   ]
  },
  {
   "cell_type": "markdown",
   "metadata": {},
   "source": [
    "Above: about 3.5 hours of carrying datalogger with me during afternoon."
   ]
  },
  {
   "cell_type": "code",
   "execution_count": 73,
   "metadata": {
    "collapsed": false
   },
   "outputs": [
    {
     "data": {
      "text/plain": [
       "<matplotlib.text.Text at 0x7f8f418c5b70>"
      ]
     },
     "execution_count": 73,
     "metadata": {},
     "output_type": "execute_result"
    },
    {
     "data": {
      "image/png": "[encoded data removed]",
      "text/plain": [
       "<matplotlib.figure.Figure at 0x7f8f41898be0>"
      ]
     },
     "metadata": {},
     "output_type": "display_data"
    }
   ],
   "source": [
    "plt.plot(t,a.temp); plt.xlim(0,1.0);plt.xlabel('hours'); plt.ylabel('temp (C)')\n",
    "#plt.figtext(.1, -0.1, \"Zoom in on first hour ...\", size=16)"
   ]
  },
  {
   "cell_type": "markdown",
   "metadata": {},
   "source": [
    "```\n",
    "Fractional Hour:  activity\n",
    "\n",
    "0.00:  put datalogger in bag\n",
    "0.05:  left house\n",
    "0.20:  entered coffee shop\n",
    "0.30:  left coffee shop, went outside\n",
    "0.80:  arrived work\n",
    "\n",
    "```"
   ]
  },
  {
   "cell_type": "code",
   "execution_count": 74,
   "metadata": {
    "collapsed": false,
    "scrolled": true
   },
   "outputs": [
    {
     "data": {
      "text/plain": [
       "<matplotlib.text.Text at 0x7f8f41a3eda0>"
      ]
     },
     "execution_count": 74,
     "metadata": {},
     "output_type": "execute_result"
    },
    {
     "data": {
      "image/png": "[encoded data removed]",
      "text/plain": [
       "<matplotlib.figure.Figure at 0x7f8f4185e908>"
      ]
     },
     "metadata": {},
     "output_type": "display_data"
    }
   ],
   "source": [
    "plt.plot(t,a.temp); plt.xlim(2.0,4.0);plt.xlabel('hours'); plt.ylabel('temp (C)')"
   ]
  },
  {
   "cell_type": "markdown",
   "metadata": {},
   "source": [
    "```\n",
    "Fractional Hour:  activity\n",
    "\n",
    "2.90:  left work, went outside \n",
    "3.25:  entered restaurant \n",
    "3.60:  left restaurant, went outside \n",
    "\n",
    "```"
   ]
  },
  {
   "cell_type": "markdown",
   "metadata": {},
   "source": [
    "# Overnight AA and Lithium\n"
   ]
  },
  {
   "cell_type": "code",
   "execution_count": 75,
   "metadata": {
    "collapsed": false
   },
   "outputs": [],
   "source": [
    "%matplotlib inline \n",
    "# above line allows for showing plots in a cell easily\n",
    "import matplotlib # the main plotting library\n",
    "import numpy as np # allows for arrays\n",
    "import matplotlib.pyplot as plt # getting specific plotting functions\n",
    "import urllib # URL import functions\n",
    "import pandas as pd # nice data utilities"
   ]
  },
  {
   "cell_type": "code",
   "execution_count": 76,
   "metadata": {
    "collapsed": false
   },
   "outputs": [],
   "source": [
    "url='https://raw.githubusercontent.com/dwblair/riffle-lithium-ion-cold-test/master/2016_3_3_overnight_aa.csv' # the url for the CSV\n",
    "response = urllib.request.urlopen(url) # treating the URL as a file\n",
    "aa=pd.read_csv(response,names=['date','temp','batt','a0']) # reading that file in as a CSV\n",
    "\n",
    "url='https://raw.githubusercontent.com/dwblair/riffle-lithium-ion-cold-test/master/2016_3_3_overnight_lithium.csv' # the url for the CSV\n",
    "response = urllib.request.urlopen(url) # treating the URL as a file\n",
    "lith=pd.read_csv(response,names=['date','temp','batt','a0']) # reading that file in as a CSV"
   ]
  },
  {
   "cell_type": "code",
   "execution_count": 77,
   "metadata": {
    "collapsed": false
   },
   "outputs": [],
   "source": [
    "from datetime import datetime\n",
    "\n",
    "t_aa=[]\n",
    "    \n",
    "for i in range (0,len(aa.date)):\n",
    "    tp=datetime.strptime(aa.date[i],\"%Y-%m-%d %H:%M:%S\")\n",
    "    ts=tp.strftime(\"%s\")\n",
    "    t_aa.append(int(ts)) #hours\n",
    "    \n",
    "t_lith=[]\n",
    "    \n",
    "for i in range (0,len(lith.date)):\n",
    "    tp=datetime.strptime(lith.date[i],\"%Y-%m-%d %H:%M:%S\")\n",
    "    ts=tp.strftime(\"%s\")\n",
    "    t_lith.append(int(ts)) #hours\n",
    "    "
   ]
  },
  {
   "cell_type": "code",
   "execution_count": 66,
   "metadata": {
    "collapsed": false
   },
   "outputs": [
    {
     "data": {
      "image/png": "[encoded data removed]",
      "text/plain": [
       "<matplotlib.figure.Figure at 0x7f8f41919748>"
      ]
     },
     "metadata": {},
     "output_type": "display_data"
    }
   ],
   "source": [
    "plt.plot(t_aa,aa.temp);plt.xlabel('unix epoch'); plt.ylabel('temp C');\n",
    "plt.plot(t_lith,lith.temp);plt.xlabel('unix epoch'); plt.ylabel('temp C');"
   ]
  },
  {
   "cell_type": "code",
   "execution_count": null,
   "metadata": {
    "collapsed": true
   },
   "outputs": [],
   "source": []
  }
 ],
 "metadata": {
  "kernelspec": {
   "display_name": "Python 3",
   "language": "python",
   "name": "python3"
  },
  "language_info": {
   "codemirror_mode": {
    "name": "ipython",
    "version": 3
   },
   "file_extension": ".py",
   "mimetype": "text/x-python",
   "name": "python",
   "nbconvert_exporter": "python",
   "pygments_lexer": "ipython3",
   "version": "3.5.1"
  }
 },
 "nbformat": 4,
 "nbformat_minor": 0
}
